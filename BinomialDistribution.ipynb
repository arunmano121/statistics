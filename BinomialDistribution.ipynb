{
 "cells": [
  {
   "cell_type": "markdown",
   "id": "6c2c0d01-cd7e-4b8b-81eb-c390e442b6d2",
   "metadata": {
    "editable": true,
    "slideshow": {
     "slide_type": ""
    },
    "tags": []
   },
   "source": [
    "# Binomial Distribution\n",
    "\n",
    "Author: Arun Manohar\n",
    "\n",
    "Email: arunmano121@outlook.com\n",
    "\n",
    "License: BSD-3-Clause\n",
    "\n",
    "A program to study binomial distributions. The program accepts user inputs for number of trials and probability of winning and calculates the probability mass function and plots the binomial distribution."
   ]
  },
  {
   "cell_type": "code",
   "execution_count": 1,
   "id": "e00e79b2-ea20-48c3-9e52-30be483327a6",
   "metadata": {
    "editable": true,
    "slideshow": {
     "slide_type": ""
    },
    "tags": []
   },
   "outputs": [],
   "source": [
    "# import necessary libraries\n",
    "import matplotlib.pyplot as plt\n",
    "import math"
   ]
  },
  {
   "cell_type": "code",
   "execution_count": 2,
   "id": "a5316b0c-7c4f-4fab-8d4e-4ae00e004b30",
   "metadata": {
    "editable": true,
    "slideshow": {
     "slide_type": ""
    },
    "tags": []
   },
   "outputs": [
    {
     "name": "stdin",
     "output_type": "stream",
     "text": [
      "Enter number of trials:  20\n",
      "Enter probability of win (0.0-1.0):  0.25\n"
     ]
    }
   ],
   "source": [
    "# setting the values of n - number of trials\n",
    "while True:\n",
    "    try:\n",
    "        # get input\n",
    "        n = int(input('Enter number of trials: '))  # total trials\n",
    "        break\n",
    "    except Exception as e:\n",
    "        print(e)\n",
    "        print('Enter positive integer for number of trials!')\n",
    "\n",
    "# setting the values of p - probability of win\n",
    "while True:\n",
    "    try:\n",
    "        # prob of 'win'\n",
    "        p = float(input('Enter probability of win (0.0-1.0): '))\n",
    "\n",
    "        if p >= 0.0 and p <= 1.0:\n",
    "            # only for valid probabilities\n",
    "            break\n",
    "        else:\n",
    "            print('Probability of win must be between 0.0-1.0')\n",
    "    except Exception as e:\n",
    "        print(e)\n"
   ]
  },
  {
   "cell_type": "code",
   "execution_count": 3,
   "id": "ef1360f0-8fb6-40d8-a1c0-6d1daf5fdee2",
   "metadata": {},
   "outputs": [
    {
     "name": "stdout",
     "output_type": "stream",
     "text": [
      "\n",
      "Binomial distribution - trials: 20 prob(win): 0.25\n",
      "\n",
      "# wins \t Prob(wins)\n",
      "0 \t 0.0032\n",
      "1 \t 0.0211\n",
      "2 \t 0.0669\n",
      "3 \t 0.1339\n",
      "4 \t 0.1897\n",
      "5 \t 0.2023\n",
      "6 \t 0.1686\n",
      "7 \t 0.1124\n",
      "8 \t 0.0609\n",
      "9 \t 0.0271\n",
      "10 \t 0.0099\n",
      "11 \t 0.0030\n",
      "12 \t 0.0008\n",
      "13 \t 0.0002\n",
      "14 \t 0.0000\n",
      "15 \t 0.0000\n",
      "16 \t 0.0000\n",
      "17 \t 0.0000\n",
      "18 \t 0.0000\n",
      "19 \t 0.0000\n",
      "20 \t 0.0000\n"
     ]
    }
   ],
   "source": [
    "# defining the list of r values - number of wins\n",
    "r_values = range(n + 1)\n",
    "\n",
    "# list of probability values\n",
    "# initialize an empty list to hold the probabilities\n",
    "pmf = []\n",
    "# iterate through the r_values\n",
    "for i in r_values:\n",
    "    # number of possibilities of i wins out of n is nCi = n!/((n-i)!i!)\n",
    "    choices = math.factorial(n)/(math.factorial(i) * math.factorial(n-i))\n",
    "    pmf.append(choices * p**(i) * (1-p)**(n-i))\n",
    "\n",
    "print('\\nBinomial distribution - trials: %d prob(win): %0.2f' % (n, p))\n",
    "\n",
    "# printing the table\n",
    "print('\\n# wins \\t Prob(wins)')\n",
    "\n",
    "for i in range(n + 1):\n",
    "    print('%d \\t %0.4f' % (r_values[i], pmf[i]))"
   ]
  },
  {
   "cell_type": "code",
   "execution_count": 5,
   "id": "058c693b-7b92-4c8b-8a63-fea84f0bfef2",
   "metadata": {},
   "outputs": [
    {
     "data": {
      "image/png": "[encoded data removed]",
      "text/plain": [
       "<Figure size 640x480 with 1 Axes>"
      ]
     },
     "metadata": {},
     "output_type": "display_data"
    }
   ],
   "source": [
    "# plotting the graph\n",
    "plt.bar(r_values, pmf, alpha=0.67)\n",
    "plt.ylabel('Probability')\n",
    "plt.xlabel('r (wins)')\n",
    "plt.title('Binomial distribution - trials: %d  prob (win): %0.2f' % (n, p))\n",
    "plt.tight_layout()\n",
    "plt.show()"
   ]
  },
  {
   "cell_type": "code",
   "execution_count": null,
   "id": "9ea30fd4-6702-43e9-8119-2330e4d612dd",
   "metadata": {},
   "outputs": [],
   "source": []
  }
 ],
 "metadata": {
  "kernelspec": {
   "display_name": "Python 3 (ipykernel)",
   "language": "python",
   "name": "python3"
  },
  "language_info": {
   "codemirror_mode": {
    "name": "ipython",
    "version": 3
   },
   "file_extension": ".py",
   "mimetype": "text/x-python",
   "name": "python",
   "nbconvert_exporter": "python",
   "pygments_lexer": "ipython3",
   "version": "3.12.5"
  }
 },
 "nbformat": 4,
 "nbformat_minor": 5
}

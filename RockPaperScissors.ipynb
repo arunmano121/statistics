{
 "cells": [
  {
   "cell_type": "markdown",
   "id": "7e842f3a-6b4b-45e3-b649-687a1ec92123",
   "metadata": {},
   "source": [
    "# Rock-Paper-Scissors\n",
    "\n",
    "Author: Arun Manohar\n",
    "\n",
    "Email: arunmano121@outlook.com\n",
    "\n",
    "License: BSD-3-Clause\n",
    "\n",
    "Rock-Paper-Scissors simulation! This is a fun game, where two players randomly pick amongst rock, paper and scissors. \n",
    "The rules are:\n",
    "- Paper can cover a rock\n",
    "- Rock can destroy scissors\n",
    "- Scissors can cut paper\n",
    "\n",
    "Over the long run, as expected, everyone wins equally."
   ]
  },
  {
   "cell_type": "code",
   "execution_count": 1,
   "id": "a50c282b-5235-474e-bd80-c5a1f0c61ad9",
   "metadata": {},
   "outputs": [],
   "source": [
    "# import libraries\n",
    "import numpy as np\n"
   ]
  },
  {
   "cell_type": "code",
   "execution_count": 2,
   "id": "533f319d-12a3-4b8c-b72b-901cf182a332",
   "metadata": {},
   "outputs": [
    {
     "name": "stdout",
     "output_type": "stream",
     "text": [
      "Tries:      10, Player1 wins:      3, Player2 wins:      4, Win Ratio: 0.75\n",
      "Tries:     100, Player1 wins:     35, Player2 wins:     31, Win Ratio: 1.13\n",
      "Tries:    1000, Player1 wins:    345, Player2 wins:    332, Win Ratio: 1.04\n",
      "Tries:   10000, Player1 wins:   3334, Player2 wins:   3245, Win Ratio: 1.03\n",
      "Tries:  100000, Player1 wins:  33330, Player2 wins:  33333, Win Ratio: 1.00\n",
      "Tries: 1000000, Player1 wins: 332882, Player2 wins: 333531, Win Ratio: 1.00\n"
     ]
    }
   ],
   "source": [
    "# number of samples\n",
    "samples = [10**x for x in range(1, 7)]\n",
    "\n",
    "choices = ['rock', 'paper', 'scissors']\n",
    "\n",
    "for n_sample in samples:\n",
    "\n",
    "    # a counter to keep score for player a and b\n",
    "    a_score = 0\n",
    "    b_score = 0\n",
    "\n",
    "    # player 1's picks\n",
    "    player1 = np.random.choice(choices, n_sample)\n",
    "\n",
    "    # player 2's picks\n",
    "    player2 = np.random.choice(choices, n_sample)\n",
    "\n",
    "    # print(player1, player2)\n",
    "\n",
    "    # iterate through the choices and assign score\n",
    "    for ii in range(n_sample):\n",
    "        if player1[ii] == 'rock':\n",
    "            if player2[ii] == 'rock':  # do nothing\n",
    "                pass\n",
    "            elif player2[ii] == 'paper':  # paper wins over rock\n",
    "                b_score += 1\n",
    "            else:  # scissors wins over rock\n",
    "                a_score += 1\n",
    "        elif player1[ii] == 'paper':\n",
    "            if player2[ii] == 'paper':  # do nothing\n",
    "                pass\n",
    "            elif player2[ii] == 'scissors':  # scissors wins over paper\n",
    "                b_score += 1\n",
    "            else:  # paper wins over rock\n",
    "                a_score += 1\n",
    "        else:  # player 1 has scissors\n",
    "            if player2[ii] == 'scissors':  # do nothing\n",
    "                pass\n",
    "            elif player2[ii] == 'rock':  # rock wins over scissors\n",
    "                b_score += 1\n",
    "            else:  # scissors wins over paper\n",
    "                a_score += 1\n",
    "\n",
    "        # print(player1[ii], player2[ii], a_score, b_score)\n",
    "    print('Tries: %7d, Player1 wins: %6d, Player2 wins: %6d, '\n",
    "          'Win Ratio: %0.2f' %\n",
    "          (n_sample, a_score, b_score, a_score/b_score))\n"
   ]
  },
  {
   "cell_type": "code",
   "execution_count": null,
   "id": "21a14da4-056a-4ac1-a0d7-41479dae5827",
   "metadata": {},
   "outputs": [],
   "source": []
  }
 ],
 "metadata": {
  "kernelspec": {
   "display_name": "Python 3 (ipykernel)",
   "language": "python",
   "name": "python3"
  },
  "language_info": {
   "codemirror_mode": {
    "name": "ipython",
    "version": 3
   },
   "file_extension": ".py",
   "mimetype": "text/x-python",
   "name": "python",
   "nbconvert_exporter": "python",
   "pygments_lexer": "ipython3",
   "version": "3.12.5"
  }
 },
 "nbformat": 4,
 "nbformat_minor": 5
}

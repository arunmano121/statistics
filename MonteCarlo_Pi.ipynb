{
 "cells": [
  {
   "cell_type": "markdown",
   "id": "ed9510e6-5cda-43af-a8bf-8c66dbd380f2",
   "metadata": {},
   "source": [
    "# Monte Carlo Pi Value\n",
    "\n",
    "Author: Arun Manohar\n",
    "\n",
    "Email: arunmano121@outlook.com\n",
    "\n",
    "License: BSD-3-Clause\n",
    "\n",
    "A simple program to compute the value of pi using Monte-Carlo simulations. A set of points is randomly generated and checked if they belong inside a unit circle or outside of it. The ratio between number of points inside the circle and the bounding square is pi/4. For simplicity, the value is only calculated to four decimal points. Higher precision entails more samples, and hence more computation time and resources. The actual value of pi is 3.14159 (5 decimal points)."
   ]
  },
  {
   "cell_type": "code",
   "execution_count": 2,
   "id": "5dc14813-76fb-4518-a51b-c244257d38b6",
   "metadata": {},
   "outputs": [],
   "source": [
    "# import libraries\n",
    "import numpy as np\n"
   ]
  },
  {
   "cell_type": "code",
   "execution_count": 3,
   "id": "25a33660-f715-414a-90a1-144316643360",
   "metadata": {},
   "outputs": [
    {
     "name": "stdout",
     "output_type": "stream",
     "text": [
      "Using Monte-Carlo simulations containing 1.0E+01 samples, the value of pi was computed as 3.200E+00\n",
      "Using Monte-Carlo simulations containing 1.0E+02 samples, the value of pi was computed as 2.880E+00\n",
      "Using Monte-Carlo simulations containing 1.0E+03 samples, the value of pi was computed as 3.112E+00\n",
      "Using Monte-Carlo simulations containing 1.0E+04 samples, the value of pi was computed as 3.136E+00\n",
      "Using Monte-Carlo simulations containing 1.0E+05 samples, the value of pi was computed as 3.147E+00\n",
      "Using Monte-Carlo simulations containing 1.0E+06 samples, the value of pi was computed as 3.140E+00\n",
      "Using Monte-Carlo simulations containing 1.0E+07 samples, the value of pi was computed as 3.142E+00\n"
     ]
    }
   ],
   "source": [
    "# number of samples\n",
    "samples = [10**x for x in range(1, 8)]\n",
    "\n",
    "for n_sample in samples:\n",
    "\n",
    "    # generate random sets of (x, y) coordinates for sample points\n",
    "    xy = np.random.uniform(-1, 1, [n_sample, 2])\n",
    "\n",
    "    # if the point belongs inside a unit circle, then sum of squares of\n",
    "    # coordinates should be <= 1 - count number of points\n",
    "    n_cir = np.sum(np.sum(xy**2, axis=1) <= 1)\n",
    "\n",
    "    # area of a square bounding the unit circle is 2*2 = 4\n",
    "    # ratio of area of circle over area of bounding square is pi/4\n",
    "    # this should equal n_cir/n_samples\n",
    "    pi = 4 * n_cir/n_sample\n",
    "\n",
    "    print('Using Monte-Carlo simulations containing %0.1E samples, '\n",
    "          'the value of pi was computed as %0.3E' % (n_sample, pi))"
   ]
  },
  {
   "cell_type": "code",
   "execution_count": null,
   "id": "a26cd873-c48f-4cef-b99d-f278057ae4af",
   "metadata": {},
   "outputs": [],
   "source": []
  },
  {
   "cell_type": "code",
   "execution_count": null,
   "id": "1d7c4b91-d9b1-416c-b447-4f79a5a0f583",
   "metadata": {},
   "outputs": [],
   "source": []
  }
 ],
 "metadata": {
  "kernelspec": {
   "display_name": "Python 3 (ipykernel)",
   "language": "python",
   "name": "python3"
  },
  "language_info": {
   "codemirror_mode": {
    "name": "ipython",
    "version": 3
   },
   "file_extension": ".py",
   "mimetype": "text/x-python",
   "name": "python",
   "nbconvert_exporter": "python",
   "pygments_lexer": "ipython3",
   "version": "3.12.5"
  }
 },
 "nbformat": 4,
 "nbformat_minor": 5
}
